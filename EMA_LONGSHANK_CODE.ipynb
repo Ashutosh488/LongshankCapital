{
 "cells": [
  {
   "cell_type": "code",
   "execution_count": 1,
   "id": "3a0ae161",
   "metadata": {},
   "outputs": [
    {
     "name": "stdout",
     "output_type": "stream",
     "text": [
      "Defaulting to user installation because normal site-packages is not writeable\n",
      "Requirement already satisfied: yfinance in c:\\users\\91790\\appdata\\roaming\\python\\python311\\site-packages (0.2.50)\n",
      "Requirement already satisfied: pandas>=1.3.0 in c:\\programdata\\anaconda3\\lib\\site-packages (from yfinance) (1.5.3)\n",
      "Requirement already satisfied: numpy>=1.16.5 in c:\\programdata\\anaconda3\\lib\\site-packages (from yfinance) (1.24.3)\n",
      "Requirement already satisfied: requests>=2.31 in c:\\programdata\\anaconda3\\lib\\site-packages (from yfinance) (2.31.0)\n",
      "Requirement already satisfied: multitasking>=0.0.7 in c:\\users\\91790\\appdata\\roaming\\python\\python311\\site-packages (from yfinance) (0.0.11)\n",
      "Requirement already satisfied: lxml>=4.9.1 in c:\\programdata\\anaconda3\\lib\\site-packages (from yfinance) (4.9.2)\n",
      "Requirement already satisfied: platformdirs>=2.0.0 in c:\\programdata\\anaconda3\\lib\\site-packages (from yfinance) (2.5.2)\n",
      "Requirement already satisfied: pytz>=2022.5 in c:\\programdata\\anaconda3\\lib\\site-packages (from yfinance) (2022.7)\n",
      "Requirement already satisfied: frozendict>=2.3.4 in c:\\users\\91790\\appdata\\roaming\\python\\python311\\site-packages (from yfinance) (2.4.6)\n",
      "Requirement already satisfied: peewee>=3.16.2 in c:\\users\\91790\\appdata\\roaming\\python\\python311\\site-packages (from yfinance) (3.17.8)\n",
      "Requirement already satisfied: beautifulsoup4>=4.11.1 in c:\\programdata\\anaconda3\\lib\\site-packages (from yfinance) (4.12.2)\n",
      "Requirement already satisfied: html5lib>=1.1 in c:\\users\\91790\\appdata\\roaming\\python\\python311\\site-packages (from yfinance) (1.1)\n",
      "Requirement already satisfied: soupsieve>1.2 in c:\\programdata\\anaconda3\\lib\\site-packages (from beautifulsoup4>=4.11.1->yfinance) (2.4)\n",
      "Requirement already satisfied: six>=1.9 in c:\\programdata\\anaconda3\\lib\\site-packages (from html5lib>=1.1->yfinance) (1.16.0)\n",
      "Requirement already satisfied: webencodings in c:\\programdata\\anaconda3\\lib\\site-packages (from html5lib>=1.1->yfinance) (0.5.1)\n",
      "Requirement already satisfied: python-dateutil>=2.8.1 in c:\\programdata\\anaconda3\\lib\\site-packages (from pandas>=1.3.0->yfinance) (2.8.2)\n",
      "Requirement already satisfied: charset-normalizer<4,>=2 in c:\\programdata\\anaconda3\\lib\\site-packages (from requests>=2.31->yfinance) (2.0.4)\n",
      "Requirement already satisfied: idna<4,>=2.5 in c:\\programdata\\anaconda3\\lib\\site-packages (from requests>=2.31->yfinance) (3.4)\n",
      "Requirement already satisfied: urllib3<3,>=1.21.1 in c:\\programdata\\anaconda3\\lib\\site-packages (from requests>=2.31->yfinance) (1.26.16)\n",
      "Requirement already satisfied: certifi>=2017.4.17 in c:\\programdata\\anaconda3\\lib\\site-packages (from requests>=2.31->yfinance) (2023.7.22)\n",
      "Note: you may need to restart the kernel to use updated packages.\n"
     ]
    }
   ],
   "source": [
    "pip install yfinance\n"
   ]
  },
  {
   "cell_type": "code",
   "execution_count": 2,
   "id": "a6057799",
   "metadata": {},
   "outputs": [
    {
     "name": "stderr",
     "output_type": "stream",
     "text": [
      "[*********************100%***********************]  30 of 30 completed"
     ]
    },
    {
     "name": "stdout",
     "output_type": "stream",
     "text": [
      "Ticker           AAPL        ADBE    AMD       AMZN          BA         CRM  \\\n",
      "Date                                                                          \n",
      "2018-01-02  40.524338  177.699997  10.98  59.450500  282.886414  103.948547   \n",
      "2018-01-03  40.517300  181.039993  11.55  60.209999  283.801270  104.824646   \n",
      "2018-01-04  40.705486  183.220001  12.12  60.479500  282.724426  106.208496   \n",
      "2018-01-05  41.168938  185.339996  11.88  61.457001  294.322327  107.622231   \n",
      "2018-01-08  41.016029  185.039993  12.28  62.343498  295.570709  108.378868   \n",
      "2018-01-09  41.011314  186.699997  11.82  62.634998  303.461517  108.667587   \n",
      "2018-01-10  41.001888  187.110001  11.96  62.716499  305.205536  108.319138   \n",
      "2018-01-11  41.234802  188.919998  12.14  63.834000  312.696014  108.617805   \n",
      "2018-01-12  41.660606  195.050003  12.02  65.260002  320.405762  109.752762   \n",
      "2018-01-16  41.448872  192.460007  11.91  65.242996  319.405090  108.408737   \n",
      "\n",
      "Ticker           CSCO        CVX         DIS      GOOGL  ...        PEP  \\\n",
      "Date                                                     ...              \n",
      "2018-01-02  31.385427  94.514740  107.875183  53.527954  ...  96.114456   \n",
      "2018-01-03  31.635798  95.203667  108.338318  54.441196  ...  95.862083   \n",
      "2018-01-04  31.725304  94.907349  108.290085  54.652668  ...  96.334274   \n",
      "2018-01-05  32.164684  94.751801  107.701500  55.377377  ...  96.611084   \n",
      "2018-01-08  32.498299  95.218498  106.157661  55.572891  ...  96.057480   \n",
      "2018-01-09  32.294880  94.707329  106.080475  55.502068  ...  96.130753   \n",
      "2018-01-10  32.473896  95.314835  105.626976  55.369892  ...  95.642273   \n",
      "2018-01-11  32.628475  98.211456  107.093620  55.465160  ...  95.153816   \n",
      "2018-01-12  33.255020  98.974518  108.521660  56.392864  ...  95.560860   \n",
      "2018-01-16  32.986504  97.796593  106.804146  56.395355  ...  95.951653   \n",
      "\n",
      "Ticker            PFE         PG       QCOM          T         TMO       TSLA  \\\n",
      "Date                                                                            \n",
      "2018-01-02  25.982750  75.279770  54.137142  17.005463  189.751099  21.368668   \n",
      "2018-01-03  26.175270  75.188400  54.751598  16.612757  193.231873  21.150000   \n",
      "2018-01-04  26.232311  75.719879  54.826328  16.767189  195.650711  20.974667   \n",
      "2018-01-05  26.282221  75.769707  55.191654  16.828962  199.003647  21.105333   \n",
      "2018-01-08  25.989878  76.168335  55.025589  16.877501  199.328156  22.427334   \n",
      "2018-01-09  25.961357  75.611938  54.195274  16.833498  202.651581  22.246000   \n",
      "2018-01-10  26.004137  75.130280  54.186974  16.442860  202.838379  22.320000   \n",
      "2018-01-11  26.068308  74.864532  54.328144  16.379995  205.168701  22.530001   \n",
      "2018-01-12  26.054052  74.416077  54.286598  16.568577  206.653488  22.414667   \n",
      "2018-01-16  26.096836  74.922668  56.669636  16.487757  204.529617  22.670668   \n",
      "\n",
      "Ticker               V        WMT        XOM  \n",
      "Date                                          \n",
      "2018-01-02  109.104317  29.255863  61.135201  \n",
      "2018-01-03  110.190498  29.511059  62.335892  \n",
      "2018-01-04  110.600182  29.537767  62.422165  \n",
      "2018-01-05  113.248962  29.712843  62.371845  \n",
      "2018-01-08  113.706306  30.152020  62.652252  \n",
      "2018-01-09  113.487160  29.790005  62.386242  \n",
      "2018-01-10  113.363289  29.576338  61.890133  \n",
      "2018-01-11  114.182678  29.680208  62.501259  \n",
      "2018-01-12  114.420876  29.932438  62.925476  \n",
      "2018-01-16  114.706726  29.879021  62.530033  \n",
      "\n",
      "[10 rows x 30 columns]\n"
     ]
    },
    {
     "name": "stderr",
     "output_type": "stream",
     "text": [
      "\n"
     ]
    }
   ],
   "source": [
    "import yfinance as yf\n",
    "import pandas as pd\n",
    "\n",
    "stock_symbols = [\n",
    "    \"AAPL\", \"MSFT\", \"GOOGL\", \"AMZN\", \"TSLA\", \"META\", \"NVDA\", \"JPM\", \"V\", \"DIS\",\n",
    "    \"KO\", \"PEP\", \"NFLX\", \"INTC\", \"AMD\", \"BA\", \"CSCO\", \"XOM\", \"WMT\", \"PG\",\n",
    "    \"T\", \"PFE\", \"MRK\", \"CVX\", \"TMO\", \"ADBE\", \"CRM\", \"ORCL\", \"IBM\", \"QCOM\"\n",
    "]\n",
    "start_date = \"2018-01-01\"\n",
    "end_date = \"2023-12-31\"\n",
    "\n",
    "data = yf.download(stock_symbols, start=start_date, end=end_date, interval=\"1d\")[\"Adj Close\"]\n",
    "\n",
    "sample_data = data.head(10)\n",
    "\n",
    "data.to_csv(\"portfolio_stock_prices.csv\")\n",
    "\n",
    "print(sample_data)\n"
   ]
  },
  {
   "cell_type": "code",
   "execution_count": 3,
   "id": "89cdf22b",
   "metadata": {},
   "outputs": [
    {
     "name": "stdout",
     "output_type": "stream",
     "text": [
      "                AAPL      ADBE       AMD      AMZN        BA       CRM  \\\n",
      "Date                                                                     \n",
      "2018-01-02       NaN       NaN       NaN       NaN       NaN       NaN   \n",
      "2018-01-03 -0.000174  0.018796  0.051913  0.012775  0.003234  0.008428   \n",
      "2018-01-04  0.004645  0.012042  0.049351  0.004476 -0.003794  0.013202   \n",
      "2018-01-05  0.011385  0.011571 -0.019802  0.016163  0.041022  0.013311   \n",
      "2018-01-08 -0.003714 -0.001619  0.033670  0.014425  0.004242  0.007030   \n",
      "2018-01-09 -0.000115  0.008971 -0.037459  0.004676  0.026697  0.002664   \n",
      "2018-01-10 -0.000230  0.002196  0.011844  0.001301  0.005747 -0.003207   \n",
      "2018-01-11  0.005681  0.009673  0.015050  0.017818  0.024542  0.002757   \n",
      "2018-01-12  0.010326  0.032448 -0.009885  0.022339  0.024656  0.010449   \n",
      "2018-01-16 -0.005082 -0.013279 -0.009151 -0.000261 -0.003123 -0.012246   \n",
      "\n",
      "                CSCO       CVX       DIS     GOOGL  ...       PEP       PFE  \\\n",
      "Date                                                ...                       \n",
      "2018-01-02       NaN       NaN       NaN       NaN  ...       NaN       NaN   \n",
      "2018-01-03  0.007977  0.007289  0.004293  0.017061  ... -0.002626  0.007410   \n",
      "2018-01-04  0.002829 -0.003112 -0.000445  0.003884  ...  0.004926  0.002179   \n",
      "2018-01-05  0.013850 -0.001639 -0.005435  0.013260  ...  0.002873  0.001903   \n",
      "2018-01-08  0.010372  0.004925 -0.014334  0.003531  ... -0.005730 -0.011123   \n",
      "2018-01-09 -0.006259 -0.005368 -0.000727 -0.001274  ...  0.000763 -0.001097   \n",
      "2018-01-10  0.005543  0.006415 -0.004275 -0.002381  ... -0.005081  0.001648   \n",
      "2018-01-11  0.004760  0.030390  0.013885  0.001721  ... -0.005107  0.002468   \n",
      "2018-01-12  0.019202  0.007770  0.013334  0.016726  ...  0.004278 -0.000547   \n",
      "2018-01-16 -0.008074 -0.011901 -0.015826  0.000044  ...  0.004089  0.001642   \n",
      "\n",
      "                  PG      QCOM         T       TMO      TSLA         V  \\\n",
      "Date                                                                     \n",
      "2018-01-02       NaN       NaN       NaN       NaN       NaN       NaN   \n",
      "2018-01-03 -0.001214  0.011350 -0.023093  0.018344 -0.010233  0.009955   \n",
      "2018-01-04  0.007069  0.001365  0.009296  0.012518 -0.008290  0.003718   \n",
      "2018-01-05  0.000658  0.006663  0.003684  0.017137  0.006230  0.023949   \n",
      "2018-01-08  0.005261 -0.003009  0.002884  0.001631  0.062638  0.004038   \n",
      "2018-01-09 -0.007305 -0.015090 -0.002607  0.016673 -0.008085 -0.001927   \n",
      "2018-01-10 -0.006370 -0.000153 -0.023206  0.000922  0.003326 -0.001091   \n",
      "2018-01-11 -0.003537  0.002605 -0.003823  0.011489  0.009409  0.007228   \n",
      "2018-01-12 -0.005990 -0.000765  0.011513  0.007237 -0.005119  0.002086   \n",
      "2018-01-16  0.006808  0.043897 -0.004878 -0.010277  0.011421  0.002498   \n",
      "\n",
      "                 WMT       XOM  \n",
      "Date                            \n",
      "2018-01-02       NaN       NaN  \n",
      "2018-01-03  0.008723  0.019640  \n",
      "2018-01-04  0.000905  0.001384  \n",
      "2018-01-05  0.005927 -0.000806  \n",
      "2018-01-08  0.014781  0.004496  \n",
      "2018-01-09 -0.012006 -0.004246  \n",
      "2018-01-10 -0.007172 -0.007952  \n",
      "2018-01-11  0.003512  0.009874  \n",
      "2018-01-12  0.008498  0.006787  \n",
      "2018-01-16 -0.001785 -0.006284  \n",
      "\n",
      "[10 rows x 30 columns]\n"
     ]
    }
   ],
   "source": [
    "import pandas as pd\n",
    "\n",
    "data = pd.read_csv(\"portfolio_stock_prices.csv\", index_col=0, parse_dates=True)\n",
    "\n",
    "daily_returns = data.pct_change()\n",
    "\n",
    "daily_returns.to_csv(\"portfolio_daily_returns.csv\")\n",
    "\n",
    "print(daily_returns.head(10))\n"
   ]
  },
  {
   "cell_type": "code",
   "execution_count": 4,
   "id": "ca1a59c3",
   "metadata": {},
   "outputs": [
    {
     "name": "stdout",
     "output_type": "stream",
     "text": [
      "Portfolio EMA Strategy Returns (First 10 Days):\n",
      "Date\n",
      "2018-01-02         NaN\n",
      "2018-01-03    0.000000\n",
      "2018-01-04    0.004346\n",
      "2018-01-05    0.006469\n",
      "2018-01-08    0.002106\n",
      "2018-01-09   -0.000240\n",
      "2018-01-10    0.003004\n",
      "2018-01-11    0.005626\n",
      "2018-01-12    0.004976\n",
      "2018-01-16    0.000934\n",
      "dtype: float64\n"
     ]
    }
   ],
   "source": [
    "import pandas as pd\n",
    "\n",
    "data = pd.read_csv(\"portfolio_stock_prices.csv\", index_col=0, parse_dates=True)\n",
    "\n",
    "short_window = 10\n",
    "long_window = 50\n",
    "\n",
    "long_positions = {}\n",
    "short_positions = {}\n",
    "ema_strategy_returns = {}\n",
    "\n",
    "for stock in data.columns:\n",
    "    stock_data = data[stock].dropna()  # Drop missing values\n",
    "    \n",
    "    short_ema = stock_data.ewm(span=short_window, adjust=False).mean()\n",
    "    long_ema = stock_data.ewm(span=long_window, adjust=False).mean()\n",
    "    \n",
    "    # Generate trading signals: 1 (long), -1 (short)\n",
    "    signals = pd.Series(0, index=stock_data.index)\n",
    "    signals[short_ema > long_ema] = 1  # Long position\n",
    "    signals[short_ema < long_ema] = -1  # Short position\n",
    "    \n",
    "    long_positions[stock] = signals[signals == 1]  # Days in long positions\n",
    "    short_positions[stock] = signals[signals == -1]  # Days in short positions\n",
    "    \n",
    "    daily_returns = stock_data.pct_change()\n",
    "    strategy_returns = daily_returns * signals.shift(1)  # Apply signal with 1-day lag\n",
    "    \n",
    "    ema_strategy_returns[stock] = strategy_returns\n",
    "\n",
    "portfolio_ema_returns = pd.DataFrame(ema_strategy_returns).mean(axis=1)\n",
    "\n",
    "pd.DataFrame(long_positions).to_csv(\"ema_long_positions.csv\")\n",
    "pd.DataFrame(short_positions).to_csv(\"ema_short_positions.csv\")\n",
    "portfolio_ema_returns.to_csv(\"ema_strategy_portfolio_returns.csv\")\n",
    "\n",
    "print(\"Portfolio EMA Strategy Returns (First 10 Days):\")\n",
    "print(portfolio_ema_returns.head(10))\n"
   ]
  },
  {
   "cell_type": "code",
   "execution_count": 5,
   "id": "4e5cb18e",
   "metadata": {},
   "outputs": [
    {
     "name": "stdout",
     "output_type": "stream",
     "text": [
      "Performance Metrics:\n",
      "Average Daily Return: 0.00001\n",
      "Return Volatility: 0.01004\n",
      "Sharpe Ratio: 0.00050\n",
      "Maximum Drawdown: -23.73836%\n",
      "Skewness: -0.67130\n",
      "Kurtosis: 25.39610\n"
     ]
    }
   ],
   "source": [
    "import pandas as pd\n",
    "import numpy as np\n",
    "\n",
    "portfolio_ema_returns = pd.read_csv(\"ema_strategy_portfolio_returns.csv\", index_col=0, parse_dates=True)\n",
    "\n",
    "cumulative_returns = (1 + portfolio_ema_returns).cumprod()\n",
    "\n",
    "average_return = portfolio_ema_returns.mean().mean()  # Mean daily return across all stocks in the portfolio\n",
    "volatility = portfolio_ema_returns.std().mean()       # Standard deviation of daily returns across all stocks\n",
    "sharpe_ratio = average_return / volatility            # Assuming 0% risk-free rate\n",
    "\n",
    "rolling_max = cumulative_returns.cummax()\n",
    "drawdown = (cumulative_returns - rolling_max) / rolling_max\n",
    "max_drawdown = drawdown.min().min()  # Get the overall maximum drawdown\n",
    "\n",
    "skewness = portfolio_ema_returns.skew().mean()\n",
    "kurtosis = portfolio_ema_returns.kurt().mean()\n",
    "\n",
    "print(\"Performance Metrics:\")\n",
    "print(f\"Average Daily Return: {average_return:.5f}\")\n",
    "print(f\"Return Volatility: {volatility:.5f}\")\n",
    "print(f\"Sharpe Ratio: {sharpe_ratio:.5f}\")\n",
    "print(f\"Maximum Drawdown: {max_drawdown:.5%}\")\n",
    "print(f\"Skewness: {skewness:.5f}\")\n",
    "print(f\"Kurtosis: {kurtosis:.5f}\")\n"
   ]
  },
  {
   "cell_type": "code",
   "execution_count": 6,
   "id": "e6956d96",
   "metadata": {},
   "outputs": [
    {
     "name": "stderr",
     "output_type": "stream",
     "text": [
      "[*********************100%***********************]  1 of 1 completed"
     ]
    },
    {
     "name": "stdout",
     "output_type": "stream",
     "text": [
      "                            OLS Regression Results                            \n",
      "==============================================================================\n",
      "Dep. Variable:       Strategy Returns   R-squared:                       0.148\n",
      "Model:                            OLS   Adj. R-squared:                  0.147\n",
      "Method:                 Least Squares   F-statistic:                     261.5\n",
      "Date:                Mon, 09 Dec 2024   Prob (F-statistic):           2.32e-54\n",
      "Time:                        15:16:14   Log-Likelihood:                 4917.1\n",
      "No. Observations:                1507   AIC:                            -9830.\n",
      "Df Residuals:                    1505   BIC:                            -9819.\n",
      "Df Model:                           1                                         \n",
      "Covariance Type:            nonrobust                                         \n",
      "==================================================================================\n",
      "                     coef    std err          t      P>|t|      [0.025      0.975]\n",
      "----------------------------------------------------------------------------------\n",
      "const              0.0002      0.000      0.695      0.487      -0.000       0.001\n",
      "Market Returns    -0.3006      0.019    -16.172      0.000      -0.337      -0.264\n",
      "==============================================================================\n",
      "Omnibus:                      499.168   Durbin-Watson:                   2.305\n",
      "Prob(Omnibus):                  0.000   Jarque-Bera (JB):             9310.313\n",
      "Skew:                          -1.058   Prob(JB):                         0.00\n",
      "Kurtosis:                      14.991   Cond. No.                         77.9\n",
      "==============================================================================\n",
      "\n",
      "Notes:\n",
      "[1] Standard Errors assume that the covariance matrix of the errors is correctly specified.\n"
     ]
    },
    {
     "name": "stderr",
     "output_type": "stream",
     "text": [
      "\n"
     ]
    }
   ],
   "source": [
    "import statsmodels.api as sm\n",
    "import pandas as pd\n",
    "import yfinance as yf\n",
    "\n",
    "portfolio_ema_returns = pd.read_csv(\"ema_strategy_portfolio_returns.csv\", index_col=0, parse_dates=True)\n",
    "\n",
    "market_data = yf.download(\"SPY\", start=portfolio_ema_returns.index[0], end=portfolio_ema_returns.index[-1], interval=\"1d\")[\"Adj Close\"]\n",
    "market_returns = market_data.pct_change().dropna()\n",
    "\n",
    "aligned_data = pd.concat([portfolio_ema_returns, market_returns], axis=1).dropna()\n",
    "aligned_data.columns = [\"Strategy Returns\", \"Market Returns\"]\n",
    "\n",
    "X = sm.add_constant(aligned_data[\"Market Returns\"])  # Add constant (intercept) term\n",
    "y = aligned_data[\"Strategy Returns\"]\n",
    "model = sm.OLS(y, X).fit()\n",
    "\n",
    "print(model.summary())\n"
   ]
  },
  {
   "cell_type": "code",
   "execution_count": 7,
   "id": "4ce4ce2a",
   "metadata": {},
   "outputs": [
    {
     "name": "stdout",
     "output_type": "stream",
     "text": [
      "Signal Accuracy: 52.85%\n"
     ]
    }
   ],
   "source": [
    "total_trades = (signals != 0).sum()  # Count non-zero signals\n",
    "correct_trades = ((signals.shift(1) * daily_returns) > 0).sum()  # Positive return when signal is applied\n",
    "accuracy = correct_trades / total_trades\n",
    "\n",
    "print(f\"Signal Accuracy: {accuracy:.2%}\")\n"
   ]
  },
  {
   "cell_type": "code",
   "execution_count": 8,
   "id": "2824cef7",
   "metadata": {},
   "outputs": [
    {
     "name": "stdout",
     "output_type": "stream",
     "text": [
      "Annual Performance Metrics:\n",
      "   Year  Average_Return  Volatility  Sharpe_Ratio\n",
      "0  2018       -0.000033    0.007843     -0.004166\n",
      "1  2019       -0.000097    0.005396     -0.018026\n",
      "2  2020        0.000043    0.017880      0.002385\n",
      "3  2021        0.000030    0.004632      0.006582\n",
      "4  2022       -0.000033    0.011782     -0.002763\n",
      "5  2023        0.000120    0.005840      0.020563\n"
     ]
    }
   ],
   "source": [
    "import pandas as pd\n",
    "\n",
    "portfolio_returns = pd.read_csv(\"ema_strategy_portfolio_returns.csv\", index_col=0, parse_dates=True)\n",
    "\n",
    "if 'Strategy Returns' not in portfolio_returns.columns:\n",
    "    portfolio_returns.columns = ['Strategy Returns']  # Rename the column if needed\n",
    "\n",
    "portfolio_returns['Year'] = portfolio_returns.index.year\n",
    "\n",
    "annual_performance = portfolio_returns.groupby('Year')['Strategy Returns'].agg([\n",
    "    ('Average_Return', 'mean'),\n",
    "    ('Volatility', 'std'),\n",
    "    ('Sharpe_Ratio', lambda x: x.mean() / x.std() if x.std() != 0 else 0)\n",
    "]).reset_index()\n",
    "\n",
    "print(\"Annual Performance Metrics:\")\n",
    "print(annual_performance)\n"
   ]
  },
  {
   "cell_type": "code",
   "execution_count": 9,
   "id": "664e2f75",
   "metadata": {},
   "outputs": [
    {
     "name": "stdout",
     "output_type": "stream",
     "text": [
      "Performance Metrics:\n",
      "Sharpe Ratio: 0.00050\n",
      "Sortino Ratio: 0.00056\n",
      "Calmar Ratio: 0.00002\n"
     ]
    }
   ],
   "source": [
    "import numpy as np\n",
    "import pandas as pd\n",
    "\n",
    "portfolio_ema_returns = pd.read_csv(\"ema_strategy_portfolio_returns.csv\", index_col=0, parse_dates=True)\n",
    "\n",
    "cumulative_returns = (1 + portfolio_ema_returns).cumprod()\n",
    "\n",
    "mean_return = portfolio_ema_returns.mean().mean()  # Mean return across the portfolio\n",
    "volatility = portfolio_ema_returns.std().mean()    # Standard deviation of returns\n",
    "downside_deviation = portfolio_ema_returns[portfolio_ema_returns < 0].std().mean()  # Downside deviation\n",
    "max_drawdown = ((cumulative_returns / cumulative_returns.cummax()) - 1).min().min()\n",
    "\n",
    "sharpe_ratio = mean_return / volatility\n",
    "sortino_ratio = mean_return / downside_deviation\n",
    "calmar_ratio = mean_return / abs(max_drawdown)\n",
    "\n",
    "print(\"Performance Metrics:\")\n",
    "print(f\"Sharpe Ratio: {sharpe_ratio:.5f}\")\n",
    "print(f\"Sortino Ratio: {sortino_ratio:.5f}\")\n",
    "print(f\"Calmar Ratio: {calmar_ratio:.5f}\")\n"
   ]
  },
  {
   "cell_type": "code",
   "execution_count": null,
   "id": "c13290a6",
   "metadata": {},
   "outputs": [],
   "source": []
  }
 ],
 "metadata": {
  "kernelspec": {
   "display_name": "Python 3 (ipykernel)",
   "language": "python",
   "name": "python3"
  },
  "language_info": {
   "codemirror_mode": {
    "name": "ipython",
    "version": 3
   },
   "file_extension": ".py",
   "mimetype": "text/x-python",
   "name": "python",
   "nbconvert_exporter": "python",
   "pygments_lexer": "ipython3",
   "version": "3.11.4"
  }
 },
 "nbformat": 4,
 "nbformat_minor": 5
}
